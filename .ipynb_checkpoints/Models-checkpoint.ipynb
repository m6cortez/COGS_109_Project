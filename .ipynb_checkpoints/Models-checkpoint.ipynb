{
 "cells": [
  {
   "cell_type": "code",
   "execution_count": 158,
   "metadata": {},
   "outputs": [],
   "source": [
    "import pandas as pd\n",
    "import numpy as np\n",
    "import matplotlib.pyplot as plt\n",
    "import seaborn as sns\n",
    "from sklearn.model_selection import train_test_split\n",
    "from sklearn.svm import SVC\n",
    "from sklearn.tree import DecisionTreeClassifier\n",
    "from sklearn.model_selection import cross_val_score, GridSearchCV\n",
    "from sklearn.feature_selection import RFE\n",
    "from sklearn.preprocessing import StandardScaler\n",
    "from sklearn.metrics import classification_report, confusion_matrix, accuracy_score\n",
    "from sklearn.linear_model import LogisticRegression"
   ]
  },
  {
   "cell_type": "code",
   "execution_count": 159,
   "metadata": {},
   "outputs": [],
   "source": [
    "final = pd.read_csv('df_final.csv')"
   ]
  },
  {
   "cell_type": "code",
   "execution_count": 160,
   "metadata": {},
   "outputs": [],
   "source": [
    "y = final.INJ_SEV\n",
    "x = final.drop(['INJ_SEV','Unnamed: 0','MAKE'],axis=1)\n",
    "x.MOD_YEAR = 2019 - x.MOD_YEAR\n",
    "train_x, test_x, train_y, test_y = train_test_split(x, y, test_size = 0.2, random_state = 42)"
   ]
  },
  {
   "cell_type": "code",
   "execution_count": 161,
   "metadata": {},
   "outputs": [
    {
     "data": {
      "text/plain": [
       "1    25339\n",
       "2    12917\n",
       "3     8639\n",
       "5     1204\n",
       "4      909\n",
       "6      291\n",
       "9       31\n",
       "7       23\n",
       "8       14\n",
       "Name: LGT_COND, dtype: int64"
      ]
     },
     "execution_count": 161,
     "metadata": {},
     "output_type": "execute_result"
    }
   ],
   "source": [
    "x.LGT_COND.value_counts()"
   ]
  },
  {
   "cell_type": "code",
   "execution_count": 141,
   "metadata": {
    "scrolled": true
   },
   "outputs": [
    {
     "data": {
      "text/html": [
       "<div>\n",
       "<style scoped>\n",
       "    .dataframe tbody tr th:only-of-type {\n",
       "        vertical-align: middle;\n",
       "    }\n",
       "\n",
       "    .dataframe tbody tr th {\n",
       "        vertical-align: top;\n",
       "    }\n",
       "\n",
       "    .dataframe thead th {\n",
       "        text-align: right;\n",
       "    }\n",
       "</style>\n",
       "<table border=\"1\" class=\"dataframe\">\n",
       "  <thead>\n",
       "    <tr style=\"text-align: right;\">\n",
       "      <th></th>\n",
       "      <th>HOUR</th>\n",
       "      <th>BODY_TYP</th>\n",
       "      <th>MOD_YEAR</th>\n",
       "      <th>AGE</th>\n",
       "      <th>REST_USE</th>\n",
       "      <th>EJECTION</th>\n",
       "      <th>VE_FORMS</th>\n",
       "      <th>VSURCOND</th>\n",
       "      <th>ROLLOVER</th>\n",
       "      <th>LGT_COND</th>\n",
       "    </tr>\n",
       "  </thead>\n",
       "  <tbody>\n",
       "    <tr>\n",
       "      <td>0</td>\n",
       "      <td>22</td>\n",
       "      <td>1</td>\n",
       "      <td>11.0</td>\n",
       "      <td>37</td>\n",
       "      <td>0</td>\n",
       "      <td>0</td>\n",
       "      <td>2</td>\n",
       "      <td>2</td>\n",
       "      <td>0</td>\n",
       "      <td>2</td>\n",
       "    </tr>\n",
       "    <tr>\n",
       "      <td>1</td>\n",
       "      <td>13</td>\n",
       "      <td>2</td>\n",
       "      <td>15.0</td>\n",
       "      <td>58</td>\n",
       "      <td>1</td>\n",
       "      <td>0</td>\n",
       "      <td>1</td>\n",
       "      <td>1</td>\n",
       "      <td>0</td>\n",
       "      <td>1</td>\n",
       "    </tr>\n",
       "    <tr>\n",
       "      <td>2</td>\n",
       "      <td>13</td>\n",
       "      <td>2</td>\n",
       "      <td>15.0</td>\n",
       "      <td>26</td>\n",
       "      <td>0</td>\n",
       "      <td>1</td>\n",
       "      <td>1</td>\n",
       "      <td>1</td>\n",
       "      <td>0</td>\n",
       "      <td>1</td>\n",
       "    </tr>\n",
       "    <tr>\n",
       "      <td>3</td>\n",
       "      <td>22</td>\n",
       "      <td>2</td>\n",
       "      <td>8.0</td>\n",
       "      <td>23</td>\n",
       "      <td>1</td>\n",
       "      <td>0</td>\n",
       "      <td>1</td>\n",
       "      <td>1</td>\n",
       "      <td>0</td>\n",
       "      <td>2</td>\n",
       "    </tr>\n",
       "    <tr>\n",
       "      <td>4</td>\n",
       "      <td>9</td>\n",
       "      <td>2</td>\n",
       "      <td>5.0</td>\n",
       "      <td>73</td>\n",
       "      <td>1</td>\n",
       "      <td>0</td>\n",
       "      <td>1</td>\n",
       "      <td>1</td>\n",
       "      <td>0</td>\n",
       "      <td>1</td>\n",
       "    </tr>\n",
       "    <tr>\n",
       "      <td>...</td>\n",
       "      <td>...</td>\n",
       "      <td>...</td>\n",
       "      <td>...</td>\n",
       "      <td>...</td>\n",
       "      <td>...</td>\n",
       "      <td>...</td>\n",
       "      <td>...</td>\n",
       "      <td>...</td>\n",
       "      <td>...</td>\n",
       "      <td>...</td>\n",
       "    </tr>\n",
       "    <tr>\n",
       "      <td>49362</td>\n",
       "      <td>10</td>\n",
       "      <td>2</td>\n",
       "      <td>5.0</td>\n",
       "      <td>63</td>\n",
       "      <td>1</td>\n",
       "      <td>0</td>\n",
       "      <td>2</td>\n",
       "      <td>4</td>\n",
       "      <td>0</td>\n",
       "      <td>1</td>\n",
       "    </tr>\n",
       "    <tr>\n",
       "      <td>49363</td>\n",
       "      <td>18</td>\n",
       "      <td>0</td>\n",
       "      <td>25.0</td>\n",
       "      <td>61</td>\n",
       "      <td>0</td>\n",
       "      <td>2</td>\n",
       "      <td>1</td>\n",
       "      <td>4</td>\n",
       "      <td>1</td>\n",
       "      <td>2</td>\n",
       "    </tr>\n",
       "    <tr>\n",
       "      <td>49364</td>\n",
       "      <td>13</td>\n",
       "      <td>0</td>\n",
       "      <td>17.0</td>\n",
       "      <td>34</td>\n",
       "      <td>0</td>\n",
       "      <td>1</td>\n",
       "      <td>1</td>\n",
       "      <td>1</td>\n",
       "      <td>9</td>\n",
       "      <td>1</td>\n",
       "    </tr>\n",
       "    <tr>\n",
       "      <td>49365</td>\n",
       "      <td>13</td>\n",
       "      <td>0</td>\n",
       "      <td>17.0</td>\n",
       "      <td>36</td>\n",
       "      <td>0</td>\n",
       "      <td>0</td>\n",
       "      <td>1</td>\n",
       "      <td>1</td>\n",
       "      <td>9</td>\n",
       "      <td>1</td>\n",
       "    </tr>\n",
       "    <tr>\n",
       "      <td>49366</td>\n",
       "      <td>18</td>\n",
       "      <td>1</td>\n",
       "      <td>27.0</td>\n",
       "      <td>40</td>\n",
       "      <td>0</td>\n",
       "      <td>1</td>\n",
       "      <td>2</td>\n",
       "      <td>1</td>\n",
       "      <td>1</td>\n",
       "      <td>5</td>\n",
       "    </tr>\n",
       "  </tbody>\n",
       "</table>\n",
       "<p>49367 rows × 10 columns</p>\n",
       "</div>"
      ],
      "text/plain": [
       "       HOUR  BODY_TYP  MOD_YEAR  AGE  REST_USE  EJECTION  VE_FORMS  VSURCOND  \\\n",
       "0        22         1      11.0   37         0         0         2         2   \n",
       "1        13         2      15.0   58         1         0         1         1   \n",
       "2        13         2      15.0   26         0         1         1         1   \n",
       "3        22         2       8.0   23         1         0         1         1   \n",
       "4         9         2       5.0   73         1         0         1         1   \n",
       "...     ...       ...       ...  ...       ...       ...       ...       ...   \n",
       "49362    10         2       5.0   63         1         0         2         4   \n",
       "49363    18         0      25.0   61         0         2         1         4   \n",
       "49364    13         0      17.0   34         0         1         1         1   \n",
       "49365    13         0      17.0   36         0         0         1         1   \n",
       "49366    18         1      27.0   40         0         1         2         1   \n",
       "\n",
       "       ROLLOVER  LGT_COND  \n",
       "0             0         2  \n",
       "1             0         1  \n",
       "2             0         1  \n",
       "3             0         2  \n",
       "4             0         1  \n",
       "...         ...       ...  \n",
       "49362         0         1  \n",
       "49363         1         2  \n",
       "49364         9         1  \n",
       "49365         9         1  \n",
       "49366         1         5  \n",
       "\n",
       "[49367 rows x 10 columns]"
      ]
     },
     "execution_count": 141,
     "metadata": {},
     "output_type": "execute_result"
    }
   ],
   "source": [
    "x"
   ]
  },
  {
   "cell_type": "markdown",
   "metadata": {},
   "source": [
    "1. Daylight\n",
    "2. Dark – Not Lighted\n",
    "3. Dark – Lighted\n",
    "4. Dawn\n",
    "5. Dusk\n",
    "6. Dark – Unknown Lighting\n",
    "7. Other\n",
    "8. Not Reported\n",
    "9. Reported as Unknown"
   ]
  },
  {
   "cell_type": "code",
   "execution_count": 142,
   "metadata": {},
   "outputs": [
    {
     "data": {
      "text/plain": [
       "1    25339\n",
       "2    12917\n",
       "3     8639\n",
       "5     1204\n",
       "4      909\n",
       "6      291\n",
       "9       31\n",
       "7       23\n",
       "8       14\n",
       "Name: LGT_COND, dtype: int64"
      ]
     },
     "execution_count": 142,
     "metadata": {},
     "output_type": "execute_result"
    }
   ],
   "source": [
    "#Should seperate to Daylight, Dark, partial dark\n",
    "x.LGT_COND.value_counts()"
   ]
  },
  {
   "cell_type": "code",
   "execution_count": 171,
   "metadata": {},
   "outputs": [],
   "source": [
    "light = [1]\n",
    "dark = [2,3,6]\n",
    "part_dark = [4,5]\n",
    "def change_lgt(LGT_COND):\n",
    "    if LGT_COND in light:\n",
    "        LGT_COND = 0\n",
    "    if LGT_COND in part_dark:\n",
    "        LGT_COND = 1\n",
    "    if LGT_COND in dark:\n",
    "        LGT_COND = 2\n",
    "    return LGT_COND"
   ]
  },
  {
   "cell_type": "code",
   "execution_count": null,
   "metadata": {},
   "outputs": [],
   "source": []
  },
  {
   "cell_type": "code",
   "execution_count": 169,
   "metadata": {},
   "outputs": [],
   "source": [
    "x[x.ROLLOVER.isin([9])].ROLLOVER = 3"
   ]
  },
  {
   "cell_type": "code",
   "execution_count": 48,
   "metadata": {},
   "outputs": [],
   "source": []
  },
  {
   "cell_type": "code",
   "execution_count": 170,
   "metadata": {},
   "outputs": [
    {
     "data": {
      "text/plain": [
       "0    40221\n",
       "1     7225\n",
       "2     1436\n",
       "9      485\n",
       "Name: ROLLOVER, dtype: int64"
      ]
     },
     "execution_count": 170,
     "metadata": {},
     "output_type": "execute_result"
    }
   ],
   "source": [
    "x.ROLLOVER.value_counts()"
   ]
  },
  {
   "cell_type": "code",
   "execution_count": 67,
   "metadata": {},
   "outputs": [
    {
     "data": {
      "text/plain": [
       "0        37\n",
       "1        58\n",
       "2        26\n",
       "3        23\n",
       "4        73\n",
       "         ..\n",
       "49362    63\n",
       "49363    61\n",
       "49364    34\n",
       "49365    36\n",
       "49366    40\n",
       "Name: AGE, Length: 49367, dtype: int64"
      ]
     },
     "execution_count": 67,
     "metadata": {},
     "output_type": "execute_result"
    }
   ],
   "source": [
    "x.AGE"
   ]
  },
  {
   "cell_type": "code",
   "execution_count": 24,
   "metadata": {},
   "outputs": [
    {
     "data": {
      "text/plain": [
       "array(['No Apparent Injury', 'Possible Injury', 'Suspected Minor Injury',\n",
       "       'Fatal Injury', 'Suspected Serious Injury'], dtype=object)"
      ]
     },
     "execution_count": 24,
     "metadata": {},
     "output_type": "execute_result"
    }
   ],
   "source": [
    "train_y.unique()"
   ]
  },
  {
   "cell_type": "code",
   "execution_count": 25,
   "metadata": {},
   "outputs": [],
   "source": [
    "#Normalizing Inputs to speed up SVM, and boost its performance\n",
    "scaler = StandardScaler()\n",
    "scaler.fit(train_x)\n",
    "train_x = scaler.transform(train_x)\n",
    "test_x = scaler.transform(test_x)"
   ]
  },
  {
   "cell_type": "markdown",
   "metadata": {},
   "source": [
    "## SVM"
   ]
  },
  {
   "cell_type": "code",
   "execution_count": null,
   "metadata": {},
   "outputs": [],
   "source": [
    "#For each INJ Severity, set 1 of the inj_sev labels into 1, and rest into 0\n",
    "for i in train_y.unique():\n",
    "\n",
    "    train_y1 = pd.get_dummies(train_y)[i]\n",
    "\n",
    "    test_y1 = pd.get_dummies(test_y)[i]\n",
    "\n",
    "    svm = SVC(gamma = 0.5, C = 0.5)\n",
    "    svm.fit(train_x, train_y1)\n",
    "\n",
    "    test_predictions = svm.predict(test_x)\n",
    "    conf_mat = confusion_matrix(test_y1, test_predictions)\n",
    "    print('Accuracy:' + i)\n",
    "    print(accuracy_score(test_y1, test_predictions))\n",
    "    print('Confusion Matrix:')\n",
    "    print(conf_mat)"
   ]
  },
  {
   "cell_type": "markdown",
   "metadata": {},
   "source": [
    "#### Testing Radial SVM"
   ]
  },
  {
   "cell_type": "code",
   "execution_count": 1,
   "metadata": {},
   "outputs": [
    {
     "ename": "NameError",
     "evalue": "name 'pd' is not defined",
     "output_type": "error",
     "traceback": [
      "\u001b[1;31m---------------------------------------------------------------------------\u001b[0m",
      "\u001b[1;31mNameError\u001b[0m                                 Traceback (most recent call last)",
      "\u001b[1;32m<ipython-input-1-6b4211a78ac7>\u001b[0m in \u001b[0;36m<module>\u001b[1;34m\u001b[0m\n\u001b[0;32m      1\u001b[0m \u001b[0mi\u001b[0m \u001b[1;33m=\u001b[0m \u001b[1;34m'Fatal Injury'\u001b[0m\u001b[1;33m\u001b[0m\u001b[1;33m\u001b[0m\u001b[0m\n\u001b[1;32m----> 2\u001b[1;33m \u001b[0mtrain_y1\u001b[0m \u001b[1;33m=\u001b[0m \u001b[0mpd\u001b[0m\u001b[1;33m.\u001b[0m\u001b[0mget_dummies\u001b[0m\u001b[1;33m(\u001b[0m\u001b[0mtrain_y\u001b[0m\u001b[1;33m)\u001b[0m\u001b[1;33m[\u001b[0m\u001b[0mi\u001b[0m\u001b[1;33m]\u001b[0m\u001b[1;33m\u001b[0m\u001b[1;33m\u001b[0m\u001b[0m\n\u001b[0m\u001b[0;32m      3\u001b[0m \u001b[0mtest_y1\u001b[0m \u001b[1;33m=\u001b[0m \u001b[0mpd\u001b[0m\u001b[1;33m.\u001b[0m\u001b[0mget_dummies\u001b[0m\u001b[1;33m(\u001b[0m\u001b[0mtest_y\u001b[0m\u001b[1;33m)\u001b[0m\u001b[1;33m[\u001b[0m\u001b[0mi\u001b[0m\u001b[1;33m]\u001b[0m\u001b[1;33m\u001b[0m\u001b[1;33m\u001b[0m\u001b[0m\n\u001b[0;32m      4\u001b[0m \u001b[1;33m\u001b[0m\u001b[0m\n\u001b[0;32m      5\u001b[0m \u001b[0msvm\u001b[0m \u001b[1;33m=\u001b[0m \u001b[0mSVC\u001b[0m\u001b[1;33m(\u001b[0m\u001b[0mgamma\u001b[0m \u001b[1;33m=\u001b[0m \u001b[1;36m0.5\u001b[0m\u001b[1;33m,\u001b[0m \u001b[0mC\u001b[0m \u001b[1;33m=\u001b[0m \u001b[1;36m0.5\u001b[0m\u001b[1;33m)\u001b[0m\u001b[1;33m\u001b[0m\u001b[1;33m\u001b[0m\u001b[0m\n",
      "\u001b[1;31mNameError\u001b[0m: name 'pd' is not defined"
     ]
    }
   ],
   "source": [
    "i = 'Fatal Injury'\n",
    "train_y1 = pd.get_dummies(train_y)[i]\n",
    "test_y1 = pd.get_dummies(test_y)[i]\n",
    "\n",
    "svm = SVC(gamma = 0.5, C = 0.5)\n",
    "svm.fit(train_x, train_y1)\n",
    "test_predictions = svm.predict(test_x)\n",
    "conf_mat = confusion_matrix(test_y1, test_predictions)\n",
    "print('Accuracy:' + i)\n",
    "print(accuracy_score(test_y1, test_predictions))\n",
    "print('Confusion Matrix:')\n",
    "print(conf_mat)"
   ]
  },
  {
   "cell_type": "markdown",
   "metadata": {},
   "source": [
    "#### Testing Linear SVM"
   ]
  },
  {
   "cell_type": "code",
   "execution_count": 32,
   "metadata": {
    "scrolled": true
   },
   "outputs": [
    {
     "name": "stdout",
     "output_type": "stream",
     "text": [
      "Accuracy:Suspected Serious Injury\n",
      "0.7174397407332388\n",
      "Confusion Matrix:\n",
      "[[5299  812]\n",
      " [1978 1785]]\n"
     ]
    }
   ],
   "source": [
    "i = 'Fatal Injury'\n",
    "train_y1 = pd.get_dummies(train_y)[i]\n",
    "test_y1 = pd.get_dummies(test_y)[i]\n",
    "\n",
    "svm = SVC(kernel = 'linear')\n",
    "svm.fit(train_x, train_y1)\n",
    "test_predictions = svm.predict(test_x)\n",
    "conf_mat = confusion_matrix(test_y1, test_predictions)\n",
    "print('Accuracy:' + i)\n",
    "print(accuracy_score(test_y1, test_predictions))\n",
    "print('Confusion Matrix:')\n",
    "print(conf_mat)"
   ]
  },
  {
   "cell_type": "markdown",
   "metadata": {},
   "source": [
    "## Decision Trees"
   ]
  },
  {
   "cell_type": "code",
   "execution_count": 23,
   "metadata": {
    "scrolled": false
   },
   "outputs": [
    {
     "name": "stdout",
     "output_type": "stream",
     "text": [
      "Accuracy:No Apparent Injury\n",
      "0.734656674093579\n",
      "Confusion Matrix:\n",
      "[[5805 1294]\n",
      " [1326 1449]]\n",
      "Accuracy:Possible Injury\n",
      "0.8422118695564108\n",
      "Confusion Matrix:\n",
      "[[8107  822]\n",
      " [ 736  209]]\n",
      "Accuracy:Suspected Minor Injury\n",
      "0.7898521369252582\n",
      "Confusion Matrix:\n",
      "[[7492 1135]\n",
      " [ 940  307]]\n",
      "Accuracy:Fatal Injury\n",
      "0.6747012355681588\n",
      "Confusion Matrix:\n",
      "[[4529 1582]\n",
      " [1630 2133]]\n",
      "Accuracy:Suspected Serious Injury\n",
      "0.791877658497063\n",
      "Confusion Matrix:\n",
      "[[7590 1140]\n",
      " [ 915  229]]\n"
     ]
    }
   ],
   "source": [
    "for i in train_y.unique():\n",
    "\n",
    "    train_y1 = pd.get_dummies(train_y)[i]\n",
    "\n",
    "    test_y1 = pd.get_dummies(test_y)[i]\n",
    "    \n",
    "    dt = DecisionTreeClassifier(criterion = 'gini', splitter = 'best')\n",
    "    #print(cross_val_score(dt, train_x, train_y1, cv=10))\n",
    "    dt.fit(train_x, train_y1)\n",
    "    test_preds = dt.predict(test_x)\n",
    "    conf_mat = confusion_matrix(test_y1, test_preds)\n",
    "    print('Accuracy:' +i)\n",
    "    print(accuracy_score(test_y1, test_preds))\n",
    "    print('Confusion Matrix:')\n",
    "    print(conf_mat)"
   ]
  },
  {
   "cell_type": "markdown",
   "metadata": {},
   "source": [
    "## Log Regression"
   ]
  },
  {
   "cell_type": "code",
   "execution_count": 117,
   "metadata": {},
   "outputs": [
    {
     "name": "stdout",
     "output_type": "stream",
     "text": [
      "Selected features: ['BODY_TYP', 'MOD_YEAR', 'REST_USE', 'EJECTION', 'VE_FORMS', 'VSURCOND', 'ROLLOVER', 'LGT_COND']\n"
     ]
    }
   ],
   "source": [
    "model = LogisticRegression(solver = 'lbfgs', multi_class = 'ovr', max_iter = 1000)\n",
    "# create the RFE model and select 8 attributes\n",
    "rfe = RFE(model, 8)\n",
    "rfe = rfe.fit(x, y)\n",
    "# summarize the selection of the attributes\n",
    "print('Selected features: %s' % list(x.columns[rfe.support_]))"
   ]
  },
  {
   "cell_type": "code",
   "execution_count": 116,
   "metadata": {
    "scrolled": true
   },
   "outputs": [
    {
     "name": "stderr",
     "output_type": "stream",
     "text": [
      "D:\\Anaconda\\lib\\site-packages\\pandas\\core\\generic.py:5208: SettingWithCopyWarning: \n",
      "A value is trying to be set on a copy of a slice from a DataFrame.\n",
      "Try using .loc[row_indexer,col_indexer] = value instead\n",
      "\n",
      "See the caveats in the documentation: http://pandas.pydata.org/pandas-docs/stable/user_guide/indexing.html#returning-a-view-versus-a-copy\n",
      "  self[name] = value\n"
     ]
    }
   ],
   "source": [
    "cols = ['BODY_TYP', 'MOD_YEAR', 'REST_USE', 'EJECTION', 'VE_FORMS', 'VSURCOND', 'ROLLOVER', 'LGT_COND']\n",
    "y = final.INJ_SEV\n",
    "x = final[cols]\n",
    "x.MOD_YEAR = 2019 - x.MOD_YEAR\n",
    "train_x, test_x, train_y, test_y = train_test_split(x, y, test_size = 0.2, random_state = 42)"
   ]
  },
  {
   "cell_type": "code",
   "execution_count": 104,
   "metadata": {},
   "outputs": [
    {
     "data": {
      "text/plain": [
       "(9874, 8)"
      ]
     },
     "execution_count": 104,
     "metadata": {},
     "output_type": "execute_result"
    }
   ],
   "source": [
    "test_x.shape"
   ]
  },
  {
   "cell_type": "code",
   "execution_count": 114,
   "metadata": {},
   "outputs": [
    {
     "name": "stdout",
     "output_type": "stream",
     "text": [
      "Accuracy:\n",
      "0.5060765647154142\n",
      "Confusion Matrix:\n",
      "[[2683 1059    2   19    0]\n",
      " [ 473 2285   16    1    0]\n",
      " [ 275  653    4   12    1]\n",
      " [ 501  718    3   25    0]\n",
      " [ 578  543    2   21    0]]\n",
      "                          precision    recall  f1-score   support\n",
      "\n",
      "            Fatal Injury       0.59      0.71      0.65      3763\n",
      "      No Apparent Injury       0.43      0.82      0.57      2775\n",
      "         Possible Injury       0.15      0.00      0.01       945\n",
      "  Suspected Minor Injury       0.32      0.02      0.04      1247\n",
      "Suspected Serious Injury       0.00      0.00      0.00      1144\n",
      "\n",
      "                accuracy                           0.51      9874\n",
      "               macro avg       0.30      0.31      0.25      9874\n",
      "            weighted avg       0.40      0.51      0.41      9874\n",
      "\n"
     ]
    }
   ],
   "source": [
    "#LR does one vs rest classification on its own...\n",
    "model = LogisticRegression(solver = 'lbfgs', multi_class = 'auto', max_iter = 1000)\n",
    "model.fit(train_x, train_y)\n",
    "test_preds = model.predict(test_x)\n",
    "conf_mat = confusion_matrix(test_y, test_preds)\n",
    "print('Accuracy:')\n",
    "print(accuracy_score(test_y, test_preds))\n",
    "print('Confusion Matrix:')\n",
    "print(conf_mat)\n",
    "print(classification_report(test_y,test_preds))"
   ]
  },
  {
   "cell_type": "code",
   "execution_count": 115,
   "metadata": {},
   "outputs": [
    {
     "name": "stdout",
     "output_type": "stream",
     "text": [
      "Accuracy:No Apparent Injury\n",
      "0.7304030787927891\n",
      "Confusion Matrix:\n",
      "[[6761  338]\n",
      " [2324  451]]\n",
      "Accuracy:Possible Injury\n",
      "0.9039902774964553\n",
      "Confusion Matrix:\n",
      "[[8925    4]\n",
      " [ 944    1]]\n",
      "Accuracy:Suspected Minor Injury\n",
      "0.8734049017622038\n",
      "Confusion Matrix:\n",
      "[[8624    3]\n",
      " [1247    0]]\n",
      "Accuracy:Fatal Injury\n",
      "0.7271622442779015\n",
      "Confusion Matrix:\n",
      "[[5447  664]\n",
      " [2030 1733]]\n",
      "Accuracy:Suspected Serious Injury\n",
      "0.8841401660927689\n",
      "Confusion Matrix:\n",
      "[[8730    0]\n",
      " [1144    0]]\n"
     ]
    }
   ],
   "source": [
    "for i in train_y.unique():\n",
    "\n",
    "    train_y1 = pd.get_dummies(train_y)[i]\n",
    "\n",
    "    test_y1 = pd.get_dummies(test_y)[i]\n",
    "    \n",
    "    model = LogisticRegression(solver='lbfgs',max_iter = 1000)\n",
    "    \n",
    "    model.fit(train_x, train_y1)\n",
    "    test_preds = model.predict(test_x)\n",
    "    conf_mat = confusion_matrix(test_y1, test_preds)\n",
    "    print('Accuracy:' + i)\n",
    "    print(accuracy_score(test_y1, test_preds))\n",
    "    print('Confusion Matrix:')\n",
    "    print(conf_mat)"
   ]
  },
  {
   "cell_type": "code",
   "execution_count": 60,
   "metadata": {},
   "outputs": [],
   "source": [
    "LogisticRegression?"
   ]
  }
 ],
 "metadata": {
  "kernelspec": {
   "display_name": "Python 3",
   "language": "python",
   "name": "python3"
  },
  "language_info": {
   "codemirror_mode": {
    "name": "ipython",
    "version": 3
   },
   "file_extension": ".py",
   "mimetype": "text/x-python",
   "name": "python",
   "nbconvert_exporter": "python",
   "pygments_lexer": "ipython3",
   "version": "3.7.4"
  }
 },
 "nbformat": 4,
 "nbformat_minor": 2
}
